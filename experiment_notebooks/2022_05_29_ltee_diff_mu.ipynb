{
 "cells": [
  {
   "cell_type": "code",
   "execution_count": null,
   "outputs": [],
   "source": [
    "import altair as alt\n",
    "import pandas as pd\n",
    "import pickle\n",
    "import os\n",
    "import numpy as np\n",
    "import util\n",
    "import gloop_net_analysis\n",
    "from gloop_net_analysis import run_J, plot_kill_curves, plot_lag_distributions\n",
    "from gloop_net_ltee import competition_assay\n",
    "from igraph import Graph, EdgeSeq\n",
    "import plotly.graph_objects as go\n",
    "import matplotlib.pyplot as plt"
   ],
   "metadata": {
    "collapsed": false,
    "pycharm": {
     "name": "#%%\n"
    }
   }
  },
  {
   "cell_type": "code",
   "execution_count": null,
   "outputs": [],
   "source": [
    "%load_ext autoreload\n",
    "%autoreload 2"
   ],
   "metadata": {
    "collapsed": false,
    "pycharm": {
     "name": "#%%\n"
    }
   }
  },
  {
   "cell_type": "markdown",
   "source": [
    "# Experiment (29/05/2022) - Effect of differing growth rate ($\\mu$) on ltee\n",
    "\n",
    "Simulating a LTEE experiment (In-Silico LTEE, or ISLTEE) when the phenotype is a lag distribution\n",
    " depends heavily on the growth rate.\n",
    "In the limit of slow growth rate, the selection is for lag distributions with lower mean.\n",
    "In the limit of fast growth, the selection is only on the height of the initial fraction of the lag distribution.\n",
    "Here I use RCCN matrices (with constrained mean and variance) as genotypes which each give a lag distribution\n",
    " as the relevant phenotype\n",
    " In previous experiments (not ltee but selecting phenotype via an evolutionary algorithm with predefined fitness)\n",
    "  selecting for the min (fast growth rate) had the odd (at first glance almost paradoxical) effect of lengthening\n",
    "  considerably the lag tail (a persister phenotype?).\n",
    " We want to see if this reappears\n",
    "\n",
    "## Results summary\n",
    "The effect appears strongly for different mu. At $\\mu = 1$ it's already nearly guaranteed (selection on the min gives the expected\n",
    "higher min histogram + a long tail)\n",
    "\n",
    "\n",
    "## Results location\n",
    "experiments\\LTEE\\2022_05_29_T_w=100_diff_mu\n",
    "experiments\\LTEE\\2022_05_29_T_w=2000_diff_mu\n",
    "\n",
    "\n",
    "\n",
    "\n"
   ],
   "metadata": {
    "collapsed": false
   }
  },
  {
   "cell_type": "code",
   "execution_count": null,
   "outputs": [],
   "source": [
    "def retrieve_mutant(mutant_dict, mutant_idx, ancestor_J):\n",
    "    cur_idx = mutant_idx\n",
    "    J = np.copy(ancestor_J)\n",
    "    trace = [cur_idx]\n",
    "    while cur_idx != 0:\n",
    "        cur_idx = mutant_dict[cur_idx][\"parent_id\"]\n",
    "        trace = [cur_idx] + trace\n",
    "\n",
    "    for m in trace[1:]:\n",
    "        mutated_node = mutant_dict[m][\"mutated_node\"]\n",
    "        mutated_connections = mutant_dict[m][\"mutated_connections\"]\n",
    "        row_col_mutation = 0 if mutant_dict[m][\"row_col_mutation\"]==\"row\" else 1\n",
    "        if row_col_mutation:\n",
    "            J[:, mutated_node] = mutated_connections\n",
    "        else:\n",
    "            J[mutated_node, :] = mutated_connections\n",
    "    return J, len(trace)"
   ],
   "metadata": {
    "collapsed": false,
    "pycharm": {
     "name": "#%%\n"
    }
   }
  },
  {
   "cell_type": "code",
   "execution_count": null,
   "outputs": [],
   "source": [
    "def plot_mutant_tree(mutant_dict, topology, final_N, title=\"Mutant Tree\"):\n",
    "    nr_vertices = len(mutant_dict) + 1\n",
    "    nodes = [0] + list(mutant_dict.keys())\n",
    "    edges = []\n",
    "\n",
    "\n",
    "    for i in nodes[1:]:\n",
    "        edges += [(mutant_dict[i][\"parent_id\"], i)]\n",
    "    edges = edges[::-1]\n",
    "\n",
    "    G = Graph(edges) # 2 stands for children number\n",
    "\n",
    "    lay = G.layout_reingold_tilford(mode=\"in\", root=0)\n",
    "\n",
    "    position = {k: lay[k] for k in range(nr_vertices)}\n",
    "    Y = [lay[k][1] for k in range(nr_vertices)]\n",
    "    M = max(Y)\n",
    "\n",
    "    # es = EdgeSeq(G) # sequence of edges\n",
    "    E = [e.tuple for e in G.es] # list of edges\n",
    "\n",
    "    L = len(position)\n",
    "    Xn = [position[k][0] for k in range(L)]\n",
    "    Yn = [2*M-position[k][1] for k in range(L)]\n",
    "    Xe = []\n",
    "    Ye = []\n",
    "    for edge in E:\n",
    "        Xe+=[position[edge[0]][0],position[edge[1]][0], None]\n",
    "        Ye+=[2*M-position[edge[0]][1],2*M-position[edge[1]][1], None]\n",
    "\n",
    "\n",
    "    # final_N_tot = sum(final_N[-1].values())\n",
    "    get_final_conc = lambda i: int(final_N[-1][i]) if i in final_N[-1] else 0\n",
    "    label_str = lambda i: f\"{i}: (f_conc={get_final_conc(i):.0f}) Mutated {mutant_dict[i]['row_col_mutation']} #{mutant_dict[i]['mutated_node']} (size {topology[mutant_dict[i]['mutated_node']]})\"\n",
    "    descriptions = [f\"Ancestor: (f_conc={get_final_conc(0):.0f})\"] + [label_str(i) for i in nodes[1:]]\n",
    "\n",
    "    mutated_cycle_size = [0] + [topology[mutant_dict[i][\"mutated_node\"]] for i in mutant_dict]\n",
    "    final_conc = [get_final_conc(0)] + [get_final_conc(i) for i in mutant_dict]\n",
    "\n",
    "\n",
    "    def make_annotations(pos, text, font_size=10, font_color='rgb(250,250,250)'):\n",
    "        L=len(pos)\n",
    "        if len(text)!=L:\n",
    "            raise ValueError('The lists pos and text must have the same len')\n",
    "        annotations = []\n",
    "        for k in range(L):\n",
    "            annotations.append(\n",
    "                dict(\n",
    "                    text=text[k], # or replace labels with a different list for the text within the circle\n",
    "                    x=pos[k][0], y=2*M-position[k][1],\n",
    "                    xref='x1', yref='y1',\n",
    "                    font=dict(color=font_color, size=font_size),\n",
    "                    showarrow=False)\n",
    "            )\n",
    "        return annotations\n",
    "\n",
    "\n",
    "    fig = go.Figure()\n",
    "    fig.add_trace(go.Scatter(x=Xe,\n",
    "                       y=Ye,\n",
    "                       mode='lines',\n",
    "                       line=dict(color='rgb(210,210,210)', width=1),\n",
    "                       hoverinfo='none'\n",
    "                       ))\n",
    "    fig.add_trace(go.Scatter(x=Xn,\n",
    "                      y=Yn,\n",
    "                      mode='markers',\n",
    "                      name='bla',\n",
    "                      marker=dict(symbol='circle-dot',\n",
    "                                    # size=18,\n",
    "                                    size=5*(np.log(np.array(mutated_cycle_size)+1)+1),\n",
    "                                    # color=np.arange(nr_vertices),\n",
    "                                    # color=mutated_cycle_size,\n",
    "                                    color=final_conc,\n",
    "                                    # color=[f\"rgb({int(256*i/nr_vertices)},{int(256*i/nr_vertices)},{int(256*i/nr_vertices)})\" for i in range(nr_vertices)],    #'#DB4551',\n",
    "                                  # color_continuous_scale=[\"red\", \"green\", \"blue\"],\n",
    "                                    line=dict(color='rgb(50,50,50)', width=1)\n",
    "                                    ),\n",
    "                      text=descriptions,\n",
    "                      hoverinfo='text',\n",
    "                      opacity=0.8\n",
    "                      ))\n",
    "\n",
    "    axis = dict(showline=False, # hide axis line, grid, ticklabels and  title\n",
    "                zeroline=False,\n",
    "                showgrid=False,\n",
    "                showticklabels=False,\n",
    "                )\n",
    "\n",
    "    fig.update_layout(title=title,\n",
    "                  annotations=make_annotations(position, nodes),\n",
    "                  font_size=12,\n",
    "                  showlegend=False,\n",
    "                  xaxis=axis,\n",
    "                  yaxis=axis,\n",
    "                  margin=dict(l=40, r=40, b=85, t=100),\n",
    "                  hovermode='closest',\n",
    "                  plot_bgcolor='rgb(248,248,248)'\n",
    "                  )\n",
    "    fig.show()"
   ],
   "metadata": {
    "collapsed": false,
    "pycharm": {
     "name": "#%%\n"
    }
   }
  },
  {
   "cell_type": "code",
   "execution_count": null,
   "outputs": [],
   "source": [
    "topology, ancestor_J = np.load(\"topologies_and_Js\\\\topology_1.npy\"), np.load(\"topologies_and_Js\\\\topology_1_J_1.npy\")\n"
   ],
   "metadata": {
    "collapsed": false,
    "pycharm": {
     "name": "#%%\n"
    }
   }
  },
  {
   "cell_type": "code",
   "execution_count": null,
   "outputs": [],
   "source": [
    "folder = r\"C:\\Users\\Owner\\PycharmProjects\\GloopNetEvolution\\experiments\\LTEE\\2022_05_29_T_w=100_diff_mu\"\n",
    "\n",
    "load_from_exp = lambda exp_name, file: pickle.load(\n",
    "    open(fr\"{folder}\\{exp_name}\\{file}\", 'rb'))\n",
    "save_to_exp = lambda exp_name, file, to_save: pickle.dump(to_save,\n",
    "    open(fr\"{folder}\\{exp_name}\\{file}\", 'wb'))\n",
    "\n",
    "def load_lag_and_mag(exp_name):\n",
    "    lag_times = load_from_exp(exp_name, f\"lag_times_mut_{mut_idx}\")\n",
    "    mag_records = load_from_exp(exp_name, f\"mag_records_mut_{mut_idx}\")\n",
    "    return lag_times, mag_records\n",
    "\n",
    "def gen_lag_and_mag(J, save_dir=\"\"):\n",
    "    lag_times = run_J(topology=topology, J=J, n_realizations_per_J=10000,\n",
    "                      # T_ws=util.T_WS, record_mag=False)\n",
    "                      T_ws=[100, 2000], record_mag=False)\n",
    "                      # T_ws=[2000], record_mag=False)\n",
    "    _, mag_records = run_J(topology=topology, J=J, n_realizations_per_J=100,\n",
    "                      # T_ws=util.T_WS, record_mag=False)\n",
    "                      T_ws=[100], record_mag=True)\n",
    "    if save_dir:\n",
    "        save_to_exp(save_dir, f\"lag_times_mut_{mut_idx}\", lag_times)\n",
    "        save_to_exp(save_dir, f\"mag_records_mut_{mut_idx}\", mag_records)\n",
    "    return lag_times, mag_records\n",
    "\n",
    "\n",
    "for i, exp_name in enumerate(os.listdir(fr\"{folder}\")):\n",
    "    # mu = float(exp_name.split(\"_\")[-2].split(\"=\")[1])\n",
    "    final_N = load_from_exp(exp_name, \"final_N\")\n",
    "    mutant_dict = load_from_exp(exp_name, \"mutant_dict\")\n",
    "    # plot_mutant_tree(mutant_dict, topology, final_N)\n",
    "    mut_idx = max(final_N[-1], key=lambda x: [final_N[-1][x]])\n",
    "    mut_J, gen = (ancestor_J, 1) if mut_idx==0 else retrieve_mutant(mutant_dict, mut_idx, ancestor_J)\n",
    "    lag_times, mag_records = gen_lag_and_mag(mut_J, save_dir=exp_name)\n",
    "    # lag_times, mag_records = load_lag_and_mag(exp_name)\n",
    "\n",
    "\n",
    "    # plot_kill_curves(lag_times, title=f\"Kill curve - {exp_name}\\n Mutant {mut_idx} (gen {gen})\", save_dir=fr\"figure_dump/kill_curve_{exp_name}_mut_{mut_idx}\")\n",
    "    # del lag_times[2000]\n",
    "    # plot_lag_distributions(lag_times, x_max=150, y_max=300, title=f\"Lag time distribution - {exp_name}\\n Mutant {mut_idx} (gen({gen}))\", save_dir=fr\"figure_dump/lag_dist_{exp_name}_mut_{mut_idx}\")\n",
    "    plot_mag_trace(np.mean(mag_records[100], axis=-1), save_dir=fr\"figure_dump/trace_{exp_name}_mut_{mut_idx}_\",\n",
    "                       lag_start_time =util.STABLE_T[1] + 100)\n",
    "\n",
    "\n"
   ],
   "metadata": {
    "collapsed": false,
    "pycharm": {
     "name": "#%%\n"
    }
   }
  },
  {
   "cell_type": "code",
   "execution_count": null,
   "outputs": [],
   "source": [
    "def plot_mag_trace(mag_records, save_dir, lag_start_time):\n",
    "    with plt.style.context(\"dark_background\"):\n",
    "        fig, ax = plt.subplots(1, 1, figsize=(20, 10))\n",
    "    ax.set(ylim=(-0.2, 0.6), xlim=(lag_start_time, lag_start_time+800))\n",
    "    ax.axhline(y=0, lw=1)\n",
    "    for realization_i in range(len(mag_records)):\n",
    "        trace = mag_records[realization_i]\n",
    "        crossing_idx = np.argmax(trace[lag_start_time:]<=0) + lag_start_time\n",
    "        p = ax.plot(np.arange(len(trace))[lag_start_time:crossing_idx+5], trace[lag_start_time:crossing_idx+5], lw=0.2)\n",
    "        ax.axvline(x=crossing_idx, c=p[0].get_c(), ymax=0.25, lw=1)\n",
    "    # ax.plot(np.arange(len(mag_records)), mag_records, lw=0.2)\n",
    "    util.save_fig(save_dir, figure_dump=False, facecolor=\"k\")\n",
    "\n",
    "\n"
   ],
   "metadata": {
    "collapsed": false,
    "pycharm": {
     "name": "#%%\n"
    }
   }
  },
  {
   "cell_type": "code",
   "execution_count": null,
   "metadata": {
    "collapsed": true
   },
   "outputs": [],
   "source": []
  }
 ],
 "metadata": {
  "kernelspec": {
   "display_name": "Python 3",
   "language": "python",
   "name": "python3"
  },
  "language_info": {
   "codemirror_mode": {
    "name": "ipython",
    "version": 2
   },
   "file_extension": ".py",
   "mimetype": "text/x-python",
   "name": "python",
   "nbconvert_exporter": "python",
   "pygments_lexer": "ipython2",
   "version": "2.7.6"
  }
 },
 "nbformat": 4,
 "nbformat_minor": 0
}